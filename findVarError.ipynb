{
 "cells": [
  {
   "cell_type": "code",
   "execution_count": 75,
   "metadata": {},
   "outputs": [],
   "source": [
    "import subprocess\n",
    "import time\n",
    "\n",
    "import modifyCode"
   ]
  },
  {
   "cell_type": "code",
   "execution_count": 76,
   "metadata": {},
   "outputs": [],
   "source": [
    "# input:\n",
    "#   - code (string)\n",
    "#   - tmpFilename (string)\n",
    "#   - cFilename (string) (compiled file name)\n",
    "#   - inputTestcases (list(bytes))\n",
    "#   - outputTestcases (list(bytes))\n",
    "#   - singleTestTimeout (int)\n",
    "#   - stopFast (bool, optional) (if stopFast true, return immediately when the test fails)\n",
    "# output:\n",
    "#   - totalResultCode (0 for success. 1 for testcase error. 2 for compile error.)\n",
    "#   - resultCode for each testcases (list(int)) (0 for success. 1 for W/A. 2 for timeout. 3 for other runtime errors.)\n",
    "def codeTest(code, tmpFilename, cFilename, inputTestcases, outputTestcases, singleTestTimeout, stopFast=True):\n",
    "    # put code into file\n",
    "    with open(tmpFilename, 'w') as file:\n",
    "        file.write(code)\n",
    "    # compile\n",
    "    p = subprocess.run(['g++', tmpFilename, '-o', cFilename], shell=False)\n",
    "    if p.returncode != 0:\n",
    "        return (2, [])\n",
    "    \n",
    "    # run testcases\n",
    "    totalResultCode = 0\n",
    "    resultCodes = []\n",
    "    for i, o in zip(inputTestcases, outputTestcases):\n",
    "        try:\n",
    "            p = subprocess.run([cFilename], stdin=i, stdout=subprocess.PIPE, stderr=subprocess.PIPE, timeout=singleTestTimeout)\n",
    "        except TimeoutExpired:\n",
    "            totalResultCode = 1\n",
    "            resultCodes.append(2)\n",
    "            if stopFast:\n",
    "                return totalResultCode, resultCodes\n",
    "            else:\n",
    "                continue\n",
    "        except _:\n",
    "            totalResultCode = 1\n",
    "            resultCodes.append(3)\n",
    "            if stopFast:\n",
    "                return totalResultCode, resultCodes\n",
    "            else:\n",
    "                continue\n",
    "        if o == p.stdout:\n",
    "            resultCodes.append(0)\n",
    "        else:\n",
    "            resultCodes.append(1)\n",
    "            if stopFast:\n",
    "                return totalResultCode, resultCodes\n",
    "    return totalResultCode, resultCodes"
   ]
  },
  {
   "cell_type": "code",
   "execution_count": 77,
   "metadata": {},
   "outputs": [],
   "source": [
    "# input:\n",
    "#   - code (list contains the whole code line by line.) (list(string))\n",
    "#   - vscm (list(dictionary))\n",
    "#   - tmpFilename (string)\n",
    "#   - cFilename (string)\n",
    "#   - inputTestcases (list(bytes))\n",
    "#   - outputTestcases (list(bytes))\n",
    "#   - singleTestTimeout (represent timeout seconds.)\n",
    "#   - totalTimeout (represent timeout seconds. int, optional)  (non-positive value for no-limit)\n",
    "# output: multiple return values.\n",
    "#   - modified code String (string) (If it fails to find, return '')\n",
    "#   - modified codeline Index, start from 0 (int)\n",
    "#   - returnStatus(int) (0 for success, 1 for not-found, 2 for timeout)\n",
    "#   - elapsed time (int) (seconds)\n",
    "def findVarErr(code, vscm, tmpFilename, cFilename, inputTestcases, outputTestcases, singleTestTimeout, totalTimeout=0):\n",
    "    startTime = time.time()\n",
    "    timeout = startTime + totalTimeout\n",
    "    for i, v in enumerate(vscm):\n",
    "        if totalTimeout > 0 and time.time() > timeout:\n",
    "            return ('', (-1), 2, (time.time() - startTime))\n",
    "        mc, mci, rs = modCodeFull(code, vscm, i)\n",
    "        if rs != 0:\n",
    "            continue\n",
    "        trc, rcs = codeTest(mc, tmpFilename, cFilename, inputTestcases, outputTestcases, singleTestTimeout)\n",
    "        if trc == 0:\n",
    "            return (mc, mci, 0, (time.time() - startTime))\n",
    "        #print('debug information - findVarErr: ', trc, rcs)\n",
    "    return ('', (-1), 1, (time.time() - startTime))\n",
    "        "
   ]
  },
  {
   "cell_type": "markdown",
   "metadata": {},
   "source": [
    "## Naive Solver"
   ]
  },
  {
   "cell_type": "code",
   "execution_count": 68,
   "metadata": {},
   "outputs": [],
   "source": [
    "### NAIVE SOLUTION\n",
    "# expected directory layout\n",
    "# testDir\n",
    "# - codefname\n",
    "# - input\n",
    "#   - 1.txt\n",
    "#   - 2.txt\n",
    "#   - ...\n",
    "# - output\n",
    "#   - 1.txt\n",
    "#   - 2.txt\n",
    "#   - ...\n",
    "\n",
    "import os\n",
    "from modifyCode import readVscm, modCodeFull\n",
    "from makeVscm import genVscm\n",
    "\n",
    "def naiveSolution(testDir, codefname, singleTestTimeout=2, testcaseLimit=1000):\n",
    "    # set filenames\n",
    "    codeFilename = os.path.join(testDir, codefname)\n",
    "    vscmFilename = os.path.join(testDir, 'vscm.csv')\n",
    "    tmpFilename = os.path.join(testDir, 'tmpFile.cpp')\n",
    "    cFilename = os.path.join(testDir, 'cfile.out')\n",
    "    inputTCDir = os.path.join(testDir, 'input')\n",
    "    outputTCDir = os.path.join(testDir, 'output')\n",
    "    \n",
    "    # make code string list\n",
    "    with open(codeFilename, 'r') as codefile:\n",
    "        code = codefile.readlines()\n",
    "    \n",
    "    # make and read vscm\n",
    "    genVscm(codeFilename, vscmFilename)\n",
    "    vscm = readVscm(vscmFilename)\n",
    "    \n",
    "    # read testcases\n",
    "    inputTestcases = []\n",
    "    outputTestcases = []\n",
    "    for i in range(testcaseLimit):\n",
    "        fn = str(i) + '.txt'\n",
    "        try:\n",
    "            with open(os.path.join(inputTCDir, fn)) as itcf:\n",
    "                with open(os.path.join(outputTCDir, fn)) as otcf:\n",
    "                    inputTestcases.append(itcf.read())\n",
    "                    outputTestcases.append(otcf.read())\n",
    "        except IOError:\n",
    "            break\n",
    "    \n",
    "    # run!\n",
    "    src, ind, rs, etime = findVarErr(code, vscm, tmpFilename, cFilename, inputTestcases, outputTestcases, singleTestTimeout)\n",
    "    print('====================================== SRC')\n",
    "    print(src)\n",
    "    print('====================================== RS')\n",
    "    print(rs)\n",
    "    print('====================================== ELAPSED TIME')\n",
    "    print(etime)\n",
    "    return rs\n",
    "    "
   ]
  },
  {
   "cell_type": "markdown",
   "metadata": {},
   "source": [
    "## TEST"
   ]
  },
  {
   "cell_type": "code",
   "execution_count": 73,
   "metadata": {},
   "outputs": [],
   "source": [
    "TEST_FLAG=False"
   ]
  },
  {
   "cell_type": "code",
   "execution_count": 74,
   "metadata": {},
   "outputs": [],
   "source": [
    "# run naiveSolution\n",
    "if TEST_FLAG:\n",
    "    testDir = '/home/ubuntu/workspace/pyws/modifyCpp/naiveSolverTestDir/test1'\n",
    "    codefname = 'code.cpp'\n",
    "\n",
    "    naiveSolution(testDir, codefname)"
   ]
  },
  {
   "cell_type": "code",
   "execution_count": null,
   "metadata": {},
   "outputs": [],
   "source": []
  }
 ],
 "metadata": {
  "kernelspec": {
   "display_name": "Python 3",
   "language": "python",
   "name": "python3"
  },
  "language_info": {
   "codemirror_mode": {
    "name": "ipython",
    "version": 3
   },
   "file_extension": ".py",
   "mimetype": "text/x-python",
   "name": "python",
   "nbconvert_exporter": "python",
   "pygments_lexer": "ipython3",
   "version": "3.6.8"
  }
 },
 "nbformat": 4,
 "nbformat_minor": 2
}
