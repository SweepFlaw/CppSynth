{
 "cells": [
  {
   "cell_type": "code",
   "execution_count": 1,
   "metadata": {},
   "outputs": [],
   "source": [
    "import subprocess"
   ]
  },
  {
   "cell_type": "code",
   "execution_count": 2,
   "metadata": {},
   "outputs": [],
   "source": [
    "genVscmBinaryPath = '/home/ubuntu/workspace/VarSubsCandListGenCpp/bin/vscm'"
   ]
  },
  {
   "cell_type": "code",
   "execution_count": 3,
   "metadata": {},
   "outputs": [],
   "source": [
    "vscmMainOption=0\n",
    "vscmSelectCandOption=1"
   ]
  },
  {
   "cell_type": "code",
   "execution_count": 4,
   "metadata": {},
   "outputs": [],
   "source": [
    "# targetCppSourcePath(string)\n",
    "# vscmOutputFilePath(string)\n",
    "# output: (void). File with the name vscmOutputFilePath created.\n",
    "def genVscm(targetCppSourcePath, vscmOutputFilePath):\n",
    "    subprocess.call([\n",
    "        genVscmBinaryPath,\n",
    "        targetCppSourcePath,\n",
    "        vscmOutputFilePath,\n",
    "        str(vscmMainOption),\n",
    "        str(vscmSelectCandOption)\n",
    "    ])\n",
    "    "
   ]
  },
  {
   "cell_type": "markdown",
   "metadata": {},
   "source": [
    "## MAIN"
   ]
  },
  {
   "cell_type": "code",
   "execution_count": 5,
   "metadata": {},
   "outputs": [],
   "source": [
    "# run main function (code for command-line interface)\n",
    "import sys\n",
    "\n",
    "# argv[1]: targetCppSourcePath (string)\n",
    "# argv[2]: vscmOutputFilePath (string)\n",
    "if __name__ == '__main__':\n",
    "    if(len(sys.argv) > 2):\n",
    "        genVscm(sys.argv[1], sys.argv[2])"
   ]
  },
  {
   "cell_type": "markdown",
   "metadata": {},
   "source": [
    "## TEST"
   ]
  },
  {
   "cell_type": "code",
   "execution_count": 6,
   "metadata": {},
   "outputs": [],
   "source": [
    "# TEST FLAG\n",
    "TEST_FLAG = False"
   ]
  },
  {
   "cell_type": "code",
   "execution_count": 7,
   "metadata": {},
   "outputs": [],
   "source": [
    "# run main function (code for jupyter interface)\n",
    "if TEST_FLAG:\n",
    "    test_argv = [\n",
    "        '',\n",
    "        '/home/ubuntu/workspace/VarSubsCandListGenCpp/test/tc.cpp',\n",
    "        'testResult.txt'\n",
    "    ]\n",
    "    genVscm(test_argv)"
   ]
  },
  {
   "cell_type": "code",
   "execution_count": null,
   "metadata": {},
   "outputs": [],
   "source": []
  }
 ],
 "metadata": {
  "kernelspec": {
   "display_name": "Python 3",
   "language": "python",
   "name": "python3"
  },
  "language_info": {
   "codemirror_mode": {
    "name": "ipython",
    "version": 3
   },
   "file_extension": ".py",
   "mimetype": "text/x-python",
   "name": "python",
   "nbconvert_exporter": "python",
   "pygments_lexer": "ipython3",
   "version": "3.6.8"
  }
 },
 "nbformat": 4,
 "nbformat_minor": 2
}
