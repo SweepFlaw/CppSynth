{
 "cells": [
  {
   "cell_type": "code",
   "execution_count": 115,
   "metadata": {},
   "outputs": [],
   "source": [
    "from makeVscm import genVscm"
   ]
  },
  {
   "cell_type": "code",
   "execution_count": 116,
   "metadata": {},
   "outputs": [],
   "source": [
    "# input: targetFilename(string)\n",
    "# output: entireFile String line by line (list(string))\n",
    "def readTargetFile(targetFilename):\n",
    "    with open(targetFilename, 'r') as file:\n",
    "        codeStr = file.readlines()\n",
    "    return codeStr"
   ]
  },
  {
   "cell_type": "code",
   "execution_count": 117,
   "metadata": {},
   "outputs": [],
   "source": [
    "import csv\n",
    "\n",
    "# input: vscmFilename(string)\n",
    "# output: vscm = list(dictionary)\n",
    "# -- dictionary layout\n",
    "#    - targetLine (int)\n",
    "#    - targetColumn (int)\n",
    "#    - targetOffset (int)\n",
    "#    - targetLength (int)\n",
    "#    - targetStr (string)\n",
    "#    - candidateLine (int)\n",
    "#    - candidateColumn (int)\n",
    "#    - candidateOffset (int)\n",
    "#    - candidateLength (int)\n",
    "#    - candidateStr (string)\n",
    "\n",
    "def readVscm(vscmFilename, csvSeparator=','):\n",
    "    vscm = []\n",
    "    with open(vscmFilename, 'r') as csvfile:\n",
    "        vscmReader = csv.reader(csvfile, delimiter=csvSeparator)\n",
    "        for row in vscmReader:\n",
    "            r = {}\n",
    "            r['targetLine'] = int(row[0])\n",
    "            r['targetColumn'] = int(row[1])\n",
    "            r['targetOffset'] = int(row[2])\n",
    "            r['targetLength'] = int(row[3])\n",
    "            r['targetStr'] = row[4]\n",
    "            r['candidateLine'] = int(row[5])\n",
    "            r['candidateColumn'] = int(row[6])\n",
    "            r['candidateOffset'] = int(row[7])\n",
    "            r['candidateLength'] = int(row[8])\n",
    "            r['candidateStr'] = row[9]\n",
    "            vscm.append(r)\n",
    "    return vscm"
   ]
  },
  {
   "cell_type": "code",
   "execution_count": 118,
   "metadata": {},
   "outputs": [],
   "source": [
    "# input: \n",
    "#   - code (list contains the whole code line by line.) (list(string))\n",
    "#   - vscm (list(dictionary))\n",
    "#   - vscmIndex (int)\n",
    "# output: multiple return values.\n",
    "#   - modified codeline String (string),\n",
    "#   - modified codeline Index, start from 0 (int),\n",
    "#   - returnStatus(int)\n",
    "def modCode(code, vscm, vscmIndex):\n",
    "    if len(vscm) < vscmIndex:\n",
    "        return (code, -1, -1)\n",
    "    modSpec = vscm[vscmIndex]\n",
    "    lineNo = modSpec['targetLine'] - 1\n",
    "    colNo = modSpec['targetColumn'] - 1\n",
    "    mc = code[lineNo]\n",
    "    front = mc[:colNo]\n",
    "    end = mc[colNo + modSpec['targetLength']:]\n",
    "    mc = \"\".join([front, modSpec['candidateStr'], end])\n",
    "    return (mc, lineNo, 0)\n",
    "    \n"
   ]
  },
  {
   "cell_type": "code",
   "execution_count": 119,
   "metadata": {},
   "outputs": [],
   "source": [
    "# function modCodeFull (make this for main functionality)\n",
    "# input:\n",
    "#   - code (list contains the whole code line by line.) (list(string))\n",
    "#   - vscm (list(dictionary))\n",
    "#   - vscmIndex (int)\n",
    "# output: multiple return values.\n",
    "#   - modified whole source String (string)\n",
    "#   - modified codeline Index, start from 0 (int)\n",
    "#   - returnStatus(int)\n",
    "def modCodeFull(code, vscm, vscmIndex):\n",
    "    mc, mci, rs = modCode(code, vscm, vscmIndex)\n",
    "    if mci > 0:\n",
    "        codeFront = \"\".join(code[:(mci - 1)])\n",
    "    else:\n",
    "        codeFront = \"\"\n",
    "    if mci + 1 < len(code):\n",
    "        codeEnd = \"\".join(code[(mci + 1):])\n",
    "    else:\n",
    "        codeEnd = \"\"\n",
    "    return (\"\".join([codeFront, mc, codeEnd]), mci, 0)"
   ]
  },
  {
   "cell_type": "markdown",
   "metadata": {},
   "source": [
    "## MAIN"
   ]
  },
  {
   "cell_type": "code",
   "execution_count": 136,
   "metadata": {},
   "outputs": [],
   "source": [
    "# run main function (code for command-line interface)\n",
    "import sys\n",
    "\n",
    "# argv[1]: targetCppSourcePath (string)\n",
    "# argv[2]: vscmOutputFilePath (string)\n",
    "# argv[3]: vscmIndexNum (int)\n",
    "# standard output:\n",
    "#   If the modifying process done well,\n",
    "#     this prints out modifiedCode whole string.\n",
    "#   If not, prints nothing.\n",
    "def mainFunc (tcsp, vofp, vscmIndexNum):\n",
    "    genVscm(tcsp, vofp)\n",
    "    code = readTargetFile(tcsp)\n",
    "    vscm = readVscm(vofp)\n",
    "    mcode, mci, rs = modCodeFull(code, vscm, vscmIndexNum)\n",
    "    if rs == 0:\n",
    "        print(mcode)\n",
    "\n",
    "if __name__ == '__main__':\n",
    "    if(len(sys.argv) > 3):\n",
    "        mainFunc(sys.argv[1], sys.argv[2], int(sys.argv[3]))"
   ]
  },
  {
   "cell_type": "markdown",
   "metadata": {},
   "source": [
    "## TEST"
   ]
  },
  {
   "cell_type": "code",
   "execution_count": 139,
   "metadata": {},
   "outputs": [],
   "source": [
    "# TEST FLAG\n",
    "TEST_FLAG = False"
   ]
  },
  {
   "cell_type": "code",
   "execution_count": 140,
   "metadata": {},
   "outputs": [],
   "source": [
    "# run main function (code for jupyter interface)\n",
    "import os\n",
    "\n",
    "if TEST_FLAG:\n",
    "    # readTargetFile test\n",
    "    tc_fn = '/home/ubuntu/workspace/VarSubsCandListGenCpp/test/tc.cpp'\n",
    "    #print(readTargetFile(tc_fn))\n",
    "    \n",
    "    # readVscm test\n",
    "    vscm_fn = '/home/ubuntu/workspace/VarSubsCandListGenCpp/test/log6.txt'\n",
    "    #vscm_test = readVscm(vscm_fn)\n",
    "    #print(vscm_test)\n",
    "    \n",
    "    # modCode test\n",
    "    #code_test = readTargetFile(tc_fn)\n",
    "    #vscm_test = readVscm(vscm_fn)\n",
    "    #print(\"MODIFICATION:\")\n",
    "    #vscm_index_test = 3\n",
    "    #print(vscm_test[vscm_index_test])\n",
    "    #modedstr_test, modedLine_test, returnStatus_test = modCode(code_test, vscm_test, vscm_index_test)\n",
    "    #print(\"BEFORE:\")\n",
    "    #print(code_test[modedLine_test])\n",
    "    #print(\"AFTER:\")\n",
    "    #print(modedstr_test)\n",
    "    \n",
    "    # mainFunc test\n",
    "    #print(mainFunc(tc_fn, vscm_fn, 1))"
   ]
  },
  {
   "cell_type": "code",
   "execution_count": null,
   "metadata": {},
   "outputs": [],
   "source": []
  },
  {
   "cell_type": "code",
   "execution_count": null,
   "metadata": {},
   "outputs": [],
   "source": []
  },
  {
   "cell_type": "code",
   "execution_count": null,
   "metadata": {},
   "outputs": [],
   "source": []
  }
 ],
 "metadata": {
  "kernelspec": {
   "display_name": "Python 3",
   "language": "python",
   "name": "python3"
  },
  "language_info": {
   "codemirror_mode": {
    "name": "ipython",
    "version": 3
   },
   "file_extension": ".py",
   "mimetype": "text/x-python",
   "name": "python",
   "nbconvert_exporter": "python",
   "pygments_lexer": "ipython3",
   "version": "3.6.8"
  }
 },
 "nbformat": 4,
 "nbformat_minor": 2
}
